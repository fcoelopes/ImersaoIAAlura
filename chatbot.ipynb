{
  "nbformat": 4,
  "nbformat_minor": 0,
  "metadata": {
    "colab": {
      "provenance": [],
      "authorship_tag": "ABX9TyOneuzDCOEXN3OGGBEQSf74",
      "include_colab_link": true
    },
    "kernelspec": {
      "name": "python3",
      "display_name": "Python 3"
    },
    "language_info": {
      "name": "python"
    }
  },
  "cells": [
    {
      "cell_type": "markdown",
      "metadata": {
        "id": "view-in-github",
        "colab_type": "text"
      },
      "source": [
        "<a href=\"https://colab.research.google.com/github/fcoelopes/ImersaoIAAlura/blob/main/chatbot.ipynb\" target=\"_parent\"><img src=\"https://colab.research.google.com/assets/colab-badge.svg\" alt=\"Open In Colab\"/></a>"
      ]
    },
    {
      "cell_type": "code",
      "execution_count": 1,
      "metadata": {
        "id": "vrg9Mg5Z_4Nn"
      },
      "outputs": [],
      "source": [
        "pip install -q -U google-generativeai"
      ]
    },
    {
      "cell_type": "markdown",
      "source": [
        "Pacotes que serão requeridos no desenvolvimento do projeto"
      ],
      "metadata": {
        "id": "CazVHSRNgD27"
      }
    },
    {
      "cell_type": "code",
      "source": [
        "import google.generativeai as genai\n",
        "import pandas as pd\n",
        "import numpy as np"
      ],
      "metadata": {
        "id": "T870Pdm9AY0K"
      },
      "execution_count": 2,
      "outputs": []
    },
    {
      "cell_type": "markdown",
      "source": [
        "Configuração da chave de API"
      ],
      "metadata": {
        "id": "7jC4EQtRgbyo"
      }
    },
    {
      "cell_type": "code",
      "source": [
        "from google.colab import userdata\n",
        "GOOGLE_API_KEY=userdata.get('GOOGLE_API_KEY')\n",
        "genai.configure(api_key=GOOGLE_API_KEY)"
      ],
      "metadata": {
        "id": "KT-v7V5xApLS"
      },
      "execution_count": 3,
      "outputs": []
    },
    {
      "cell_type": "markdown",
      "source": [
        "Lista de modelos"
      ],
      "metadata": {
        "id": "0tSd_nhNf3gM"
      }
    },
    {
      "cell_type": "code",
      "source": [
        "for models in genai.list_models():\n",
        "  if 'generateContent' in models.supported_generation_methods:\n",
        "    print (models.name)"
      ],
      "metadata": {
        "colab": {
          "base_uri": "https://localhost:8080/",
          "height": 145
        },
        "id": "u57K2cL7fNAK",
        "outputId": "18574554-d5da-4827-e1e6-c728d6ba7eae"
      },
      "execution_count": 4,
      "outputs": [
        {
          "output_type": "stream",
          "name": "stdout",
          "text": [
            "models/gemini-1.0-pro\n",
            "models/gemini-1.0-pro-001\n",
            "models/gemini-1.0-pro-latest\n",
            "models/gemini-1.0-pro-vision-latest\n",
            "models/gemini-1.5-pro-latest\n",
            "models/gemini-pro\n",
            "models/gemini-pro-vision\n"
          ]
        }
      ]
    },
    {
      "cell_type": "markdown",
      "source": [
        "Configuração dos parâmetros para o modelo"
      ],
      "metadata": {
        "id": "1Zq_RQpQj6D5"
      }
    },
    {
      "cell_type": "code",
      "source": [
        "generation_config = {\n",
        "    \"temperature\": 1,\n",
        "    \"top_p\": 0.95,\n",
        "    \"top_k\": 0,\n",
        "\n",
        "}"
      ],
      "metadata": {
        "id": "i2tfrQoKA5ur"
      },
      "execution_count": 5,
      "outputs": []
    },
    {
      "cell_type": "markdown",
      "source": [
        "Configurações de segurança"
      ],
      "metadata": {
        "id": "u8vKB6ikiFJl"
      }
    },
    {
      "cell_type": "code",
      "source": [
        "safety_settings = [\n",
        "    {\n",
        "        \"category\": \"HARM_CATEGORY_HARASSMENT\",\n",
        "        \"threshold\": \"BLOCK_MEDIUM_AND_ABOVE\"\n",
        "    },\n",
        "    {\n",
        "        \"category\": \"HARM_CATEGORY_HATE_SPEECH\",\n",
        "        \"threshold\": \"BLOCK_MEDIUM_AND_ABOVE\"\n",
        "    },\n",
        "    {\n",
        "        \"category\": \"HARM_CATEGORY_SEXUALLY_EXPLICIT\",\n",
        "        \"threshold\": \"BLOCK_MEDIUM_AND_ABOVE\"\n",
        "    },\n",
        "    {\n",
        "        \"category\": \"HARM_CATEGORY_DANGEROUS_CONTENT\",\n",
        "        \"threshold\": \"BLOCK_MEDIUM_AND_ABOVE\"\n",
        "    }\n",
        "]"
      ],
      "metadata": {
        "id": "JPuh0kUCBZd0"
      },
      "execution_count": 6,
      "outputs": []
    },
    {
      "cell_type": "markdown",
      "source": [
        "Inicializando o modelo"
      ],
      "metadata": {
        "id": "gDVTJI93jGL_"
      }
    },
    {
      "cell_type": "code",
      "source": [
        "model = genai.GenerativeModel(model_name='gemini-1.0-pro',\n",
        "                              generation_config= generation_config,\n",
        "                              safety_settings= safety_settings)"
      ],
      "metadata": {
        "id": "f00Kgex-jFIx"
      },
      "execution_count": 7,
      "outputs": []
    },
    {
      "cell_type": "code",
      "source": [
        "%%time\n",
        "response = model.generate_content(\"Escreva um código para o famoso Hello World em Python\")\n",
        "print(response.text)"
      ],
      "metadata": {
        "colab": {
          "base_uri": "https://localhost:8080/",
          "height": 108
        },
        "id": "XlWQ46gmkZus",
        "outputId": "aaad5b2b-6c96-431e-df1e-d896ae38d363"
      },
      "execution_count": 8,
      "outputs": [
        {
          "output_type": "stream",
          "name": "stdout",
          "text": [
            "```python\n",
            "print(\"Hello World\")\n",
            "```\n",
            "CPU times: user 25.7 ms, sys: 5.08 ms, total: 30.8 ms\n",
            "Wall time: 2.4 s\n"
          ]
        }
      ]
    },
    {
      "cell_type": "markdown",
      "source": [
        "Preparando o chat"
      ],
      "metadata": {
        "id": "lUX2gID2nV6m"
      }
    },
    {
      "cell_type": "code",
      "source": [
        "chat = model.start_chat(history=[])"
      ],
      "metadata": {
        "id": "HASi3cyom8M7"
      },
      "execution_count": null,
      "outputs": []
    },
    {
      "cell_type": "code",
      "source": [
        "prompt = input(\"Aguardando prompt:\")\n",
        "\n",
        "while prompt != \"Interromper\":\n",
        "  response = chat.send_message(prompt)\n",
        "  print(response.text)\n",
        "  print(f\"{model.count_tokens(prompt)}/{model.count_tokens(chat.history)}\")\n",
        "  prompt = input(\"Aguardando prompt:\")"
      ],
      "metadata": {
        "colab": {
          "base_uri": "https://localhost:8080/",
          "height": 146
        },
        "id": "w6STwRbRnyeO",
        "outputId": "1a77e299-f156-446f-a501-a06d8915e337"
      },
      "execution_count": 23,
      "outputs": [
        {
          "name": "stdout",
          "output_type": "stream",
          "text": [
            "Aguardando prompt:Quem foi Isaac Newton?\n",
            "Isaac Newton foi um físico, matemático, astrônomo, alquimista, teólogo e autor inglês amplamente reconhecido como um dos cientistas mais influentes de todos os tempos e uma figura-chave na revolução científica. Ele é mais conhecido por sua descoberta das leis do movimento e da gravitação universal, mas também fez contribuições significativas à óptica, matemática e cálculo.\n",
            "total_tokens: 5\n",
            "/total_tokens: 372\n",
            "\n",
            "Aguardando prompt:Interromper\n"
          ]
        }
      ]
    }
  ]
}